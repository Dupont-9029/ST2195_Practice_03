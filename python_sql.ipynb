{
 "cells": [
  {
   "cell_type": "code",
   "execution_count": 1,
   "id": "f2dc56d7-999a-46df-8734-4c079900abfe",
   "metadata": {},
   "outputs": [],
   "source": [
    "import os\n",
    "import sqlite3\n",
    "import pandas as pd"
   ]
  },
  {
   "cell_type": "code",
   "execution_count": 2,
   "id": "a0c0f6a9-198d-4dea-bdfe-3bfcacd99232",
   "metadata": {},
   "outputs": [
    {
     "data": {
      "text/plain": [
       "'C:\\\\Users\\\\Admin\\\\Documents\\\\Programming for Data Science\\\\Practice_03'"
      ]
     },
     "execution_count": 2,
     "metadata": {},
     "output_type": "execute_result"
    }
   ],
   "source": [
    "# Set the working directory to the location containing the data\n",
    "# Note: Insert the path to your working directory\n",
    "os.chdir(r'C:\\Users\\Admin\\Documents\\Programming for Data Science\\Practice_03')\n",
    "os.getcwd()"
   ]
  },
  {
   "cell_type": "code",
   "execution_count": 3,
   "id": "80642594-7424-4f57-8e2a-775ddefdb84d",
   "metadata": {},
   "outputs": [],
   "source": [
    "# Note: Insert your database name - e.g., 'airline_python.db'\n",
    "conn = sqlite3.connect('airline2.db')\n",
    "#OperationalError: Could not decode to UTF-8 column 'TailNum' with text '-N600�'--use this for ignoring invalid characters or\n",
    "#alternatively use the code below to change to latin1 instead\n",
    "conn.text_factory= lambda x: x.decode('utf-8', 'ignore')\n",
    "#conn.text_factory = lambda x: str(x, 'latin1')"
   ]
  },
  {
   "cell_type": "code",
   "execution_count": 4,
   "id": "f0e59b4e-0a14-4653-9eb0-9e18e9266104",
   "metadata": {},
   "outputs": [],
   "source": [
    "c = conn.cursor()"
   ]
  },
  {
   "cell_type": "code",
   "execution_count": 23,
   "id": "82fb3d4f-36c4-40c6-807f-46a039a9952c",
   "metadata": {},
   "outputs": [
    {
     "ename": "SyntaxError",
     "evalue": "invalid syntax (981366199.py, line 3)",
     "output_type": "error",
     "traceback": [
      "\u001b[1;36m  Cell \u001b[1;32mIn[23], line 3\u001b[1;36m\u001b[0m\n\u001b[1;33m    CREATE TABLE ontime (\u001b[0m\n\u001b[1;37m           ^\u001b[0m\n\u001b[1;31mSyntaxError\u001b[0m\u001b[1;31m:\u001b[0m invalid syntax\n"
     ]
    }
   ],
   "source": [
    "# Creating Ontime table, only remove the # for execute and commit if you do not already have a ontime table created in the database\n",
    "#c.execute('''\n",
    "CREATE TABLE ontime (\n",
    "  Year int,\n",
    "  Month int,\n",
    "  DayofMonth int,\n",
    "  DayOfWeek int,\n",
    "  DepTime  int,\n",
    "  CRSDepTime int,\n",
    "  ArrTime int,\n",
    "  CRSArrTime int,\n",
    "  UniqueCarrier varchar(5),\n",
    "  FlightNum int,\n",
    "  TailNum varchar(8),\n",
    "  ActualElapsedTime int,\n",
    "  CRSElapsedTime int,\n",
    "  AirTime int,\n",
    "  ArrDelay int,\n",
    "  DepDelay int,\n",
    "  Origin varchar(3),\n",
    "  Dest varchar(3),\n",
    "  Distance int,\n",
    "  TaxiIn int,\n",
    "  TaxiOut int,\n",
    "  Cancelled int,\n",
    "  CancellationCode varchar(1),\n",
    "  Diverted varchar(1),\n",
    "  CarrierDelay int,\n",
    "  WeatherDelay int,\n",
    "  NASDelay int,\n",
    "  SecurityDelay int,\n",
    "  LateAircraftDelay int\n",
    ")\n",
    "#''')\n",
    "#conn.commit()"
   ]
  },
  {
   "cell_type": "code",
   "execution_count": 24,
   "id": "c12c1aa7-b7ac-4d76-b120-cbae0423b2c6",
   "metadata": {},
   "outputs": [
    {
     "ename": "IndentationError",
     "evalue": "unexpected indent (3156469052.py, line 11)",
     "output_type": "error",
     "traceback": [
      "\u001b[1;36m  Cell \u001b[1;32mIn[24], line 11\u001b[1;36m\u001b[0m\n\u001b[1;33m    airline2 = str(year)+\".csv.bz2\"\u001b[0m\n\u001b[1;37m    ^\u001b[0m\n\u001b[1;31mIndentationError\u001b[0m\u001b[1;31m:\u001b[0m unexpected indent\n"
     ]
    }
   ],
   "source": [
    "# Load from csv.bz2 files\n",
    "\n",
    "# Reading a compressed bz2 file directly is possible by adding \"compression='bz2'\" argument (see example below)\n",
    "# x = pd.read_csv(\"2000.csv.bz2\", compression='bz2')\n",
    "\n",
    "# Alternatively, you could decompress bz2 files into csv then load\n",
    "\n",
    "#remove # for for loop and commit if there is already a ontime table created beforehand\n",
    "\n",
    "#for year in range(2000, 2006):\n",
    "    airline2 = str(year)+\".csv.bz2\"\n",
    "    print('Processing:', airline2)\n",
    "    ontime = pd.read_csv(filename, compression='bz2') #UnicodeDecodeError: 'utf-8' codec can't decode byte 0xe4 in position 343: invalid continuation byte\n",
    "    ontime = pd.read_csv(filename, encoding=\"latin-1\", low_memory=False, compression='bz2') #avoids UnicodeDecodeError and mixed data type warning for column 22\n",
    "    ontime = pd.read_csv(filename, encoding=\"latin-1\", compression='bz2') #avoids UnicodeDecodeError\n",
    "    ontime.to_sql('ontime', con = conn, if_exists = 'append', index = False)\n",
    "\n",
    "#conn.commit()"
   ]
  },
  {
   "cell_type": "code",
   "execution_count": 14,
   "id": "11e8abc4-ee86-4ac5-8cda-21eda125d0e3",
   "metadata": {},
   "outputs": [
    {
     "name": "stdout",
     "output_type": "stream",
     "text": [
      "     TailNum  AvgDepdelay\n",
      "4574  N433AW         -7.5\n"
     ]
    }
   ],
   "source": [
    "#Q1 – Which plane model has the lowest associated average departure delay\n",
    "#(excluding cancelled and diverted flights)?\n",
    "\n",
    "q1= c.execute(''' \n",
    "SELECT TailNum, AVG(DepDelay) as avg_depdelay \n",
    "FROM ontime \n",
    "WHERE Cancelled=0 AND Diverted=0 \n",
    "GROUP BY TailNum\n",
    "''').fetchall()\n",
    "\n",
    "df=pd.DataFrame(q1)\n",
    "\n",
    "#Pull the row with the least average departure delay\n",
    "df.columns=['TailNum','AvgDepdelay']\n",
    "print(df[df.AvgDepdelay==df.AvgDepdelay.min()])"
   ]
  },
  {
   "cell_type": "code",
   "execution_count": 17,
   "id": "cb76433e-a77e-4a31-8675-97b1f1857b5c",
   "metadata": {},
   "outputs": [
    {
     "name": "stdout",
     "output_type": "stream",
     "text": [
      "    Dest  cityinb\n",
      "215  ORD  1967069\n"
     ]
    }
   ],
   "source": [
    "#Q2 – Which city has the highest number of inbound flights (excluding\n",
    "#cancelled flights)?\n",
    "q2= c.execute('''\n",
    "SELECT Dest, COUNT(Dest) as cityinb\n",
    "FROM ontime\n",
    "WHERE Cancelled=0\n",
    "GROUP BY Dest\n",
    "''').fetchall()\n",
    "\n",
    "df2=pd.DataFrame(q2)\n",
    "df2.columns=['Dest','cityinb']\n",
    "print(df2[df2.cityinb==df2.cityinb.max()])\n"
   ]
  },
  {
   "cell_type": "code",
   "execution_count": 23,
   "id": "29e4a1db-fffd-4818-a205-9e5271b20b99",
   "metadata": {},
   "outputs": [
    {
     "name": "stdout",
     "output_type": "stream",
     "text": [
      "  UniqueCarrier  totalcancelled\n",
      "6            DL          107851\n"
     ]
    }
   ],
   "source": [
    "#Q3 – Which carrier has the highest number of cancelled flights?\n",
    "\n",
    "q3=c.execute('''\n",
    "SELECT UniqueCarrier, SUM(Cancelled) as totalcancelled\n",
    "FROM ontime\n",
    "WHERE Cancelled>0\n",
    "GROUP BY UniqueCarrier\n",
    "''').fetchall()\n",
    "\n",
    "df3=pd.DataFrame(q3)\n",
    "df3.columns=['UniqueCarrier','totalcancelled']\n",
    "print(df3[df3.totalcancelled==df3.totalcancelled.max()])"
   ]
  },
  {
   "cell_type": "code",
   "execution_count": 38,
   "id": "2c7a50c6-cf45-4ffc-97b8-fa3a1a16811f",
   "metadata": {},
   "outputs": [
    {
     "name": "stdout",
     "output_type": "stream",
     "text": [
      "   UniqueCarrier  maxcancelled  totalflight     ratio\n",
      "12            MQ         96365      2373620  0.040598\n"
     ]
    }
   ],
   "source": [
    "#Q4 – Which carrier has the highest number of cancelled flights, relative to\n",
    "#their number of total flights?\n",
    "\n",
    "q4=c.execute('''\n",
    "SELECT UniqueCarrier, SUM(Cancelled) as maxcancelled, COUNT(UniqueCarrier) as totalflight\n",
    "FROM ontime\n",
    "GROUP BY UniqueCarrier\n",
    "''')\n",
    "df4=pd.DataFrame(q4)\n",
    "df4.columns=['UniqueCarrier', 'maxcancelled', 'totalflight']\n",
    "df4['ratio']=df4['maxcancelled']/df4['totalflight']\n",
    "print(df4[df4.ratio==df4.ratio.max()])"
   ]
  },
  {
   "cell_type": "code",
   "execution_count": 39,
   "id": "8b76fb96-3793-40a5-9642-bf15f81c8ec4",
   "metadata": {},
   "outputs": [],
   "source": [
    "conn.close()"
   ]
  },
  {
   "cell_type": "code",
   "execution_count": null,
   "id": "4554d1e6-82b5-4632-b9cb-3d2a73b89005",
   "metadata": {},
   "outputs": [],
   "source": []
  }
 ],
 "metadata": {
  "kernelspec": {
   "display_name": "Python 3 (ipykernel)",
   "language": "python",
   "name": "python3"
  },
  "language_info": {
   "codemirror_mode": {
    "name": "ipython",
    "version": 3
   },
   "file_extension": ".py",
   "mimetype": "text/x-python",
   "name": "python",
   "nbconvert_exporter": "python",
   "pygments_lexer": "ipython3",
   "version": "3.12.4"
  }
 },
 "nbformat": 4,
 "nbformat_minor": 5
}
